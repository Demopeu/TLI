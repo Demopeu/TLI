{
 "cells": [
  {
   "cell_type": "code",
   "execution_count": null,
   "id": "a46dddd4-7ba3-4101-9ce9-c5ecb140f811",
   "metadata": {},
   "outputs": [],
   "source": [
    "pip install numpy\n",
    "pip install pandas\n",
    "pip install matplotlib"
   ]
  },
  {
   "cell_type": "code",
   "execution_count": 1,
   "id": "ef609549-08cd-4401-8dbb-1113ec413881",
   "metadata": {},
   "outputs": [],
   "source": [
    "import numpy as np\n",
    "import pandas as pd\n",
    "import matplotlib.pyplot as plt"
   ]
  },
  {
   "cell_type": "code",
   "execution_count": 7,
   "id": "552311ce-0dab-4b7e-a0de-1d361358ce66",
   "metadata": {},
   "outputs": [],
   "source": [
    "csv_path = \"NFLX.csv\"\n",
    "df = pd.read_csv(csv_path)\n",
    "df['Date'] = pd.to_datetime(df['Date'])\n",
    "B = df['Date'].dt.year >= 2021\n",
    "re_df = df[B]"
   ]
  },
  {
   "cell_type": "code",
   "execution_count": 8,
   "id": "6beb1d23-78ac-43f2-8ae3-742a3ab846de",
   "metadata": {},
   "outputs": [],
   "source": [
    "max_price = re_df['Close'].max()\n",
    "min_price = re_df['Close'].min()"
   ]
  },
  {
   "cell_type": "code",
   "execution_count": 9,
   "id": "4d729ac3-5b29-4599-815e-fc51f2e8aa56",
   "metadata": {},
   "outputs": [
    {
     "name": "stdout",
     "output_type": "stream",
     "text": [
      "최고 종가: 691.690002\n",
      "최저 종가: 359.700012\n"
     ]
    }
   ],
   "source": [
    "print('최고 종가:',max_price)\n",
    "print('최저 종가:',min_price)"
   ]
  }
 ],
 "metadata": {
  "kernelspec": {
   "display_name": "Python 3 (ipykernel)",
   "language": "python",
   "name": "python3"
  },
  "language_info": {
   "codemirror_mode": {
    "name": "ipython",
    "version": 3
   },
   "file_extension": ".py",
   "mimetype": "text/x-python",
   "name": "python",
   "nbconvert_exporter": "python",
   "pygments_lexer": "ipython3",
   "version": "3.9.13"
  }
 },
 "nbformat": 4,
 "nbformat_minor": 5
}
