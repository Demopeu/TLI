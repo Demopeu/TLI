{
 "cells": [
  {
   "cell_type": "markdown",
   "id": "c30ffe6e",
   "metadata": {},
   "source": [
    "# Pandas 연습하기\n",
    "\n",
    "- 데이터: 구글 주식 데이터: Google Stock Price: Daily, Weekly & Monthly (2023)\n",
    "    - 데이터 링크: https://www.kaggle.com/datasets/r1shabhgupta/google-stock-price-daily-weekly-and-monthly-2023\n",
    "    - 데이터셋 요약: 2013-04-15 ~ 2023-03-31 까지의 일/주/월 별 데이터\n",
    "        - 데이터는 다운로드 시점에 따라 다를 수 있습니다.\n",
    "\n",
    "- 실습에는 월 별 데이터를 활용합니다."
   ]
  },
  {
   "cell_type": "markdown",
   "id": "5f791485",
   "metadata": {},
   "source": [
    "## 0. 필요 패키지 설치"
   ]
  },
  {
   "cell_type": "code",
   "execution_count": 5,
   "id": "8f259b78",
   "metadata": {},
   "outputs": [
    {
     "name": "stdout",
     "output_type": "stream",
     "text": [
      "Requirement already satisfied: numpy in c:\\users\\ggr\\appdata\\local\\programs\\python\\python310\\lib\\site-packages (1.24.1)Note: you may need to restart the kernel to use updated packages.\n",
      "\n"
     ]
    },
    {
     "name": "stderr",
     "output_type": "stream",
     "text": [
      "WARNING: You are using pip version 21.2.4; however, version 23.3.2 is available.\n",
      "You should consider upgrading via the 'C:\\Users\\GGR\\AppData\\Local\\Programs\\Python\\Python310\\python.exe -m pip install --upgrade pip' command.\n"
     ]
    }
   ],
   "source": [
    "pip install numpy"
   ]
  },
  {
   "cell_type": "code",
   "execution_count": 6,
   "id": "0253cd0e",
   "metadata": {},
   "outputs": [
    {
     "name": "stdout",
     "output_type": "stream",
     "text": [
      "Requirement already satisfied: pandas in c:\\users\\ggr\\appdata\\local\\programs\\python\\python310\\lib\\site-packages (1.5.2)\n",
      "Requirement already satisfied: numpy>=1.21.0 in c:\\users\\ggr\\appdata\\local\\programs\\python\\python310\\lib\\site-packages (from pandas) (1.24.1)\n",
      "Requirement already satisfied: pytz>=2020.1 in c:\\users\\ggr\\appdata\\local\\programs\\python\\python310\\lib\\site-packages (from pandas) (2022.1)\n",
      "Requirement already satisfied: python-dateutil>=2.8.1 in c:\\users\\ggr\\appdata\\local\\programs\\python\\python310\\lib\\site-packages (from pandas) (2.8.2)\n",
      "Requirement already satisfied: six>=1.5 in c:\\users\\ggr\\appdata\\local\\programs\\python\\python310\\lib\\site-packages (from python-dateutil>=2.8.1->pandas) (1.16.0)\n",
      "Note: you may need to restart the kernel to use updated packages.\n"
     ]
    },
    {
     "name": "stderr",
     "output_type": "stream",
     "text": [
      "WARNING: You are using pip version 21.2.4; however, version 23.3.2 is available.\n",
      "You should consider upgrading via the 'C:\\Users\\GGR\\AppData\\Local\\Programs\\Python\\Python310\\python.exe -m pip install --upgrade pip' command.\n"
     ]
    }
   ],
   "source": [
    "pip install pandas"
   ]
  },
  {
   "cell_type": "code",
   "execution_count": 7,
   "id": "1281ef7f",
   "metadata": {
    "scrolled": true
   },
   "outputs": [
    {
     "name": "stdout",
     "output_type": "stream",
     "text": [
      "Requirement already satisfied: matplotlib in c:\\users\\ggr\\appdata\\local\\programs\\python\\python310\\lib\\site-packages (3.8.2)\n",
      "Requirement already satisfied: contourpy>=1.0.1 in c:\\users\\ggr\\appdata\\local\\programs\\python\\python310\\lib\\site-packages (from matplotlib) (1.2.0)\n",
      "Requirement already satisfied: fonttools>=4.22.0 in c:\\users\\ggr\\appdata\\local\\programs\\python\\python310\\lib\\site-packages (from matplotlib) (4.47.0)\n",
      "Requirement already satisfied: pyparsing>=2.3.1 in c:\\users\\ggr\\appdata\\local\\programs\\python\\python310\\lib\\site-packages (from matplotlib) (3.0.9)\n",
      "Requirement already satisfied: kiwisolver>=1.3.1 in c:\\users\\ggr\\appdata\\local\\programs\\python\\python310\\lib\\site-packages (from matplotlib) (1.4.5)\n",
      "Requirement already satisfied: packaging>=20.0 in c:\\users\\ggr\\appdata\\local\\programs\\python\\python310\\lib\\site-packages (from matplotlib) (21.3)\n",
      "Requirement already satisfied: numpy<2,>=1.21 in c:\\users\\ggr\\appdata\\local\\programs\\python\\python310\\lib\\site-packages (from matplotlib) (1.24.1)\n",
      "Requirement already satisfied: python-dateutil>=2.7 in c:\\users\\ggr\\appdata\\local\\programs\\python\\python310\\lib\\site-packages (from matplotlib) (2.8.2)\n",
      "Requirement already satisfied: pillow>=8 in c:\\users\\ggr\\appdata\\local\\programs\\python\\python310\\lib\\site-packages (from matplotlib) (10.2.0)\n",
      "Requirement already satisfied: cycler>=0.10 in c:\\users\\ggr\\appdata\\local\\programs\\python\\python310\\lib\\site-packages (from matplotlib) (0.12.1)\n",
      "Requirement already satisfied: six>=1.5 in c:\\users\\ggr\\appdata\\local\\programs\\python\\python310\\lib\\site-packages (from python-dateutil>=2.7->matplotlib) (1.16.0)\n",
      "Note: you may need to restart the kernel to use updated packages.\n"
     ]
    },
    {
     "name": "stderr",
     "output_type": "stream",
     "text": [
      "WARNING: You are using pip version 21.2.4; however, version 23.3.2 is available.\n",
      "You should consider upgrading via the 'C:\\Users\\GGR\\AppData\\Local\\Programs\\Python\\Python310\\python.exe -m pip install --upgrade pip' command.\n"
     ]
    }
   ],
   "source": [
    "pip install matplotlib"
   ]
  },
  {
   "cell_type": "code",
   "execution_count": 8,
   "id": "b9f74d5a",
   "metadata": {},
   "outputs": [],
   "source": [
    "# 패키지 import\n",
    "import numpy as np\n",
    "import pandas as pd\n",
    "import matplotlib.pyplot as plt"
   ]
  },
  {
   "cell_type": "markdown",
   "id": "acb952cb",
   "metadata": {},
   "source": [
    "## 1. 데이터 읽어와서 출력하기\n",
    "  - `pd.read_csv()`: csv 파일을 읽어와 Pandas Dataframe 으로 반환"
   ]
  },
  {
   "cell_type": "code",
   "execution_count": 9,
   "id": "47a2b0f2",
   "metadata": {},
   "outputs": [
    {
     "data": {
      "text/html": [
       "<div>\n",
       "<style scoped>\n",
       "    .dataframe tbody tr th:only-of-type {\n",
       "        vertical-align: middle;\n",
       "    }\n",
       "\n",
       "    .dataframe tbody tr th {\n",
       "        vertical-align: top;\n",
       "    }\n",
       "\n",
       "    .dataframe thead th {\n",
       "        text-align: right;\n",
       "    }\n",
       "</style>\n",
       "<table border=\"1\" class=\"dataframe\">\n",
       "  <thead>\n",
       "    <tr style=\"text-align: right;\">\n",
       "      <th></th>\n",
       "      <th>Date</th>\n",
       "      <th>Price</th>\n",
       "      <th>High</th>\n",
       "      <th>Low</th>\n",
       "      <th>Close</th>\n",
       "      <th>Volume</th>\n",
       "    </tr>\n",
       "  </thead>\n",
       "  <tbody>\n",
       "    <tr>\n",
       "      <th>0</th>\n",
       "      <td>2013-05-01</td>\n",
       "      <td>20.60</td>\n",
       "      <td>23.04</td>\n",
       "      <td>20.43</td>\n",
       "      <td>21.80</td>\n",
       "      <td>1974715308</td>\n",
       "    </tr>\n",
       "    <tr>\n",
       "      <th>1</th>\n",
       "      <td>2013-06-01</td>\n",
       "      <td>21.85</td>\n",
       "      <td>22.79</td>\n",
       "      <td>21.20</td>\n",
       "      <td>22.03</td>\n",
       "      <td>1941280776</td>\n",
       "    </tr>\n",
       "    <tr>\n",
       "      <th>2</th>\n",
       "      <td>2013-07-01</td>\n",
       "      <td>22.18</td>\n",
       "      <td>23.22</td>\n",
       "      <td>21.91</td>\n",
       "      <td>22.22</td>\n",
       "      <td>2047770180</td>\n",
       "    </tr>\n",
       "    <tr>\n",
       "      <th>3</th>\n",
       "      <td>2013-08-01</td>\n",
       "      <td>22.40</td>\n",
       "      <td>22.77</td>\n",
       "      <td>21.16</td>\n",
       "      <td>21.19</td>\n",
       "      <td>1338144516</td>\n",
       "    </tr>\n",
       "    <tr>\n",
       "      <th>4</th>\n",
       "      <td>2013-09-01</td>\n",
       "      <td>21.38</td>\n",
       "      <td>22.67</td>\n",
       "      <td>21.37</td>\n",
       "      <td>21.92</td>\n",
       "      <td>1323615060</td>\n",
       "    </tr>\n",
       "    <tr>\n",
       "      <th>...</th>\n",
       "      <td>...</td>\n",
       "      <td>...</td>\n",
       "      <td>...</td>\n",
       "      <td>...</td>\n",
       "      <td>...</td>\n",
       "      <td>...</td>\n",
       "    </tr>\n",
       "    <tr>\n",
       "      <th>115</th>\n",
       "      <td>2022-12-01</td>\n",
       "      <td>101.02</td>\n",
       "      <td>102.25</td>\n",
       "      <td>85.94</td>\n",
       "      <td>88.23</td>\n",
       "      <td>603127800</td>\n",
       "    </tr>\n",
       "    <tr>\n",
       "      <th>116</th>\n",
       "      <td>2023-01-01</td>\n",
       "      <td>89.59</td>\n",
       "      <td>100.32</td>\n",
       "      <td>84.86</td>\n",
       "      <td>98.84</td>\n",
       "      <td>672897800</td>\n",
       "    </tr>\n",
       "    <tr>\n",
       "      <th>117</th>\n",
       "      <td>2023-02-01</td>\n",
       "      <td>98.71</td>\n",
       "      <td>108.18</td>\n",
       "      <td>88.58</td>\n",
       "      <td>90.06</td>\n",
       "      <td>952580200</td>\n",
       "    </tr>\n",
       "    <tr>\n",
       "      <th>118</th>\n",
       "      <td>2023-03-01</td>\n",
       "      <td>89.98</td>\n",
       "      <td>106.59</td>\n",
       "      <td>89.42</td>\n",
       "      <td>103.73</td>\n",
       "      <td>859911400</td>\n",
       "    </tr>\n",
       "    <tr>\n",
       "      <th>119</th>\n",
       "      <td>2023-04-01</td>\n",
       "      <td>102.39</td>\n",
       "      <td>109.17</td>\n",
       "      <td>101.93</td>\n",
       "      <td>108.87</td>\n",
       "      <td>255598400</td>\n",
       "    </tr>\n",
       "  </tbody>\n",
       "</table>\n",
       "<p>120 rows × 6 columns</p>\n",
       "</div>"
      ],
      "text/plain": [
       "           Date   Price    High     Low   Close      Volume\n",
       "0    2013-05-01   20.60   23.04   20.43   21.80  1974715308\n",
       "1    2013-06-01   21.85   22.79   21.20   22.03  1941280776\n",
       "2    2013-07-01   22.18   23.22   21.91   22.22  2047770180\n",
       "3    2013-08-01   22.40   22.77   21.16   21.19  1338144516\n",
       "4    2013-09-01   21.38   22.67   21.37   21.92  1323615060\n",
       "..          ...     ...     ...     ...     ...         ...\n",
       "115  2022-12-01  101.02  102.25   85.94   88.23   603127800\n",
       "116  2023-01-01   89.59  100.32   84.86   98.84   672897800\n",
       "117  2023-02-01   98.71  108.18   88.58   90.06   952580200\n",
       "118  2023-03-01   89.98  106.59   89.42  103.73   859911400\n",
       "119  2023-04-01  102.39  109.17  101.93  108.87   255598400\n",
       "\n",
       "[120 rows x 6 columns]"
      ]
     },
     "execution_count": 9,
     "metadata": {},
     "output_type": "execute_result"
    }
   ],
   "source": [
    "# CSV 파일 경로\n",
    "csv_path = \"archive/google-stock-dataset-Monthly.csv\"\n",
    "\n",
    "# CSV 파일 읽어오기 (첫 번째, 마지막 열 제외)\n",
    "df = pd.read_csv(csv_path, usecols=range(1, 7))\n",
    "\n",
    "# DataFrame 출력\n",
    "df"
   ]
  },
  {
   "cell_type": "markdown",
   "id": "3ca1f1d0",
   "metadata": {},
   "source": [
    "### 데이터 설명\n",
    "  - `Date`: 주식 가격 데이터가 기록된 특정 날짜\n",
    "  - `Price`: 해당 날짜 주식 가격의 개장 후 첫 거래 가격.\n",
    "  - `High`: 해당 거래일에 주식의 최고 가격\n",
    "  - `Low`: 해당 거래일에 주식의 최저 가격\n",
    "  - `Close`: 해당 거래일의 종가(마지막 거래 가격)입니다.\n",
    "  - `Volume`: 주식 거래량. 해당 거래일에 주식이 거래된 총 주식 수입니다."
   ]
  },
  {
   "cell_type": "code",
   "execution_count": 10,
   "id": "c09edf24",
   "metadata": {
    "scrolled": false
   },
   "outputs": [
    {
     "data": {
      "text/plain": [
       "Date       object\n",
       "Price     float64\n",
       "High      float64\n",
       "Low       float64\n",
       "Close     float64\n",
       "Volume      int64\n",
       "dtype: object"
      ]
     },
     "execution_count": 10,
     "metadata": {},
     "output_type": "execute_result"
    }
   ],
   "source": [
    "df.dtypes"
   ]
  },
  {
   "cell_type": "markdown",
   "id": "29904bac",
   "metadata": {},
   "source": [
    "## 2. 종가 데이터를 사용하여 그래프 만들어보기"
   ]
  },
  {
   "cell_type": "code",
   "execution_count": 11,
   "id": "edcaa178",
   "metadata": {},
   "outputs": [
    {
     "data": {
      "image/png": "[encoded data removed]",
      "text/plain": [
       "<Figure size 432x288 with 1 Axes>"
      ]
     },
     "metadata": {
      "needs_background": "light"
     },
     "output_type": "display_data"
    }
   ],
   "source": [
    "# 날짜 데이터 변환\n",
    "df[\"Date\"] = pd.to_datetime(df[\"Date\"])\n",
    "\n",
    "# 그래프 그리기 (가로, 세로 축에 표시될 데이터를 차례로 기입)\n",
    "plt.plot(df['Date'], df['Close'])\n",
    "\n",
    "\n",
    "# 그래프 제목 설정\n",
    "plt.title('Close Prices over Time')\n",
    "\n",
    "# x축 레이블 설정\n",
    "plt.xlabel('Date')\n",
    "\n",
    "# y축 레이블 설정\n",
    "plt.ylabel('Close')\n",
    "\n",
    "# 그래프 표시\n",
    "plt.show()"
   ]
  },
  {
   "cell_type": "markdown",
   "id": "94106fb5",
   "metadata": {},
   "source": [
    "## 3. 최저, 최고가 출력하기"
   ]
  },
  {
   "cell_type": "code",
   "execution_count": 12,
   "id": "3ed7a23d",
   "metadata": {},
   "outputs": [
    {
     "data": {
      "image/png": "[encoded data removed]",
      "text/plain": [
       "<Figure size 432x288 with 1 Axes>"
      ]
     },
     "metadata": {
      "needs_background": "light"
     },
     "output_type": "display_data"
    }
   ],
   "source": [
    "# 그래프 그리기\n",
    "plt.plot(df['Date'], df['Close'], label='Close')\n",
    "plt.plot(df['Date'], df['Low'], label='Low')\n",
    "plt.plot(df['Date'], df['High'], label='High')\n",
    "\n",
    "# 그래프 제목 설정\n",
    "plt.title('High, Low Prices over Time')\n",
    "\n",
    "# x축 레이블 설정\n",
    "plt.xlabel('Date')\n",
    "\n",
    "# y축 레이블 설정\n",
    "plt.ylabel('Price')\n",
    "\n",
    "# 범례 표시\n",
    "plt.legend()\n",
    "\n",
    "# 그래프 표시\n",
    "plt.show()"
   ]
  },
  {
   "cell_type": "markdown",
   "id": "3a3c3773",
   "metadata": {},
   "source": [
    "## 4. 데이터 가공 - 2021 년 이후의 최고, 최저가만 출력하기"
   ]
  },
  {
   "cell_type": "code",
   "execution_count": 13,
   "id": "676a1996",
   "metadata": {},
   "outputs": [
    {
     "data": {
      "text/html": [
       "<div>\n",
       "<style scoped>\n",
       "    .dataframe tbody tr th:only-of-type {\n",
       "        vertical-align: middle;\n",
       "    }\n",
       "\n",
       "    .dataframe tbody tr th {\n",
       "        vertical-align: top;\n",
       "    }\n",
       "\n",
       "    .dataframe thead th {\n",
       "        text-align: right;\n",
       "    }\n",
       "</style>\n",
       "<table border=\"1\" class=\"dataframe\">\n",
       "  <thead>\n",
       "    <tr style=\"text-align: right;\">\n",
       "      <th></th>\n",
       "      <th>Date</th>\n",
       "      <th>Price</th>\n",
       "      <th>High</th>\n",
       "      <th>Low</th>\n",
       "      <th>Close</th>\n",
       "      <th>Volume</th>\n",
       "    </tr>\n",
       "  </thead>\n",
       "  <tbody>\n",
       "    <tr>\n",
       "      <th>104</th>\n",
       "      <td>2022-01-01</td>\n",
       "      <td>145.05</td>\n",
       "      <td>146.49</td>\n",
       "      <td>124.50</td>\n",
       "      <td>135.30</td>\n",
       "      <td>767206000</td>\n",
       "    </tr>\n",
       "    <tr>\n",
       "      <th>105</th>\n",
       "      <td>2022-02-01</td>\n",
       "      <td>137.59</td>\n",
       "      <td>151.55</td>\n",
       "      <td>124.95</td>\n",
       "      <td>135.06</td>\n",
       "      <td>928126000</td>\n",
       "    </tr>\n",
       "    <tr>\n",
       "      <th>106</th>\n",
       "      <td>2022-03-01</td>\n",
       "      <td>134.88</td>\n",
       "      <td>143.79</td>\n",
       "      <td>125.28</td>\n",
       "      <td>139.07</td>\n",
       "      <td>729162000</td>\n",
       "    </tr>\n",
       "    <tr>\n",
       "      <th>107</th>\n",
       "      <td>2022-04-01</td>\n",
       "      <td>139.50</td>\n",
       "      <td>143.71</td>\n",
       "      <td>112.74</td>\n",
       "      <td>114.11</td>\n",
       "      <td>761152000</td>\n",
       "    </tr>\n",
       "    <tr>\n",
       "      <th>108</th>\n",
       "      <td>2022-05-01</td>\n",
       "      <td>113.40</td>\n",
       "      <td>122.85</td>\n",
       "      <td>101.88</td>\n",
       "      <td>113.76</td>\n",
       "      <td>850450000</td>\n",
       "    </tr>\n",
       "    <tr>\n",
       "      <th>109</th>\n",
       "      <td>2022-06-01</td>\n",
       "      <td>114.86</td>\n",
       "      <td>119.35</td>\n",
       "      <td>105.05</td>\n",
       "      <td>108.96</td>\n",
       "      <td>770754000</td>\n",
       "    </tr>\n",
       "    <tr>\n",
       "      <th>110</th>\n",
       "      <td>2022-07-01</td>\n",
       "      <td>107.93</td>\n",
       "      <td>119.68</td>\n",
       "      <td>104.07</td>\n",
       "      <td>116.32</td>\n",
       "      <td>789529700</td>\n",
       "    </tr>\n",
       "    <tr>\n",
       "      <th>111</th>\n",
       "      <td>2022-08-01</td>\n",
       "      <td>115.30</td>\n",
       "      <td>122.43</td>\n",
       "      <td>107.80</td>\n",
       "      <td>108.22</td>\n",
       "      <td>515852700</td>\n",
       "    </tr>\n",
       "    <tr>\n",
       "      <th>112</th>\n",
       "      <td>2022-09-01</td>\n",
       "      <td>108.28</td>\n",
       "      <td>111.62</td>\n",
       "      <td>95.56</td>\n",
       "      <td>95.65</td>\n",
       "      <td>613278900</td>\n",
       "    </tr>\n",
       "    <tr>\n",
       "      <th>113</th>\n",
       "      <td>2022-10-01</td>\n",
       "      <td>96.76</td>\n",
       "      <td>104.82</td>\n",
       "      <td>91.80</td>\n",
       "      <td>94.51</td>\n",
       "      <td>681488300</td>\n",
       "    </tr>\n",
       "    <tr>\n",
       "      <th>114</th>\n",
       "      <td>2022-11-01</td>\n",
       "      <td>95.45</td>\n",
       "      <td>101.04</td>\n",
       "      <td>83.34</td>\n",
       "      <td>100.99</td>\n",
       "      <td>716522700</td>\n",
       "    </tr>\n",
       "    <tr>\n",
       "      <th>115</th>\n",
       "      <td>2022-12-01</td>\n",
       "      <td>101.02</td>\n",
       "      <td>102.25</td>\n",
       "      <td>85.94</td>\n",
       "      <td>88.23</td>\n",
       "      <td>603127800</td>\n",
       "    </tr>\n",
       "    <tr>\n",
       "      <th>116</th>\n",
       "      <td>2023-01-01</td>\n",
       "      <td>89.59</td>\n",
       "      <td>100.32</td>\n",
       "      <td>84.86</td>\n",
       "      <td>98.84</td>\n",
       "      <td>672897800</td>\n",
       "    </tr>\n",
       "    <tr>\n",
       "      <th>117</th>\n",
       "      <td>2023-02-01</td>\n",
       "      <td>98.71</td>\n",
       "      <td>108.18</td>\n",
       "      <td>88.58</td>\n",
       "      <td>90.06</td>\n",
       "      <td>952580200</td>\n",
       "    </tr>\n",
       "    <tr>\n",
       "      <th>118</th>\n",
       "      <td>2023-03-01</td>\n",
       "      <td>89.98</td>\n",
       "      <td>106.59</td>\n",
       "      <td>89.42</td>\n",
       "      <td>103.73</td>\n",
       "      <td>859911400</td>\n",
       "    </tr>\n",
       "    <tr>\n",
       "      <th>119</th>\n",
       "      <td>2023-04-01</td>\n",
       "      <td>102.39</td>\n",
       "      <td>109.17</td>\n",
       "      <td>101.93</td>\n",
       "      <td>108.87</td>\n",
       "      <td>255598400</td>\n",
       "    </tr>\n",
       "  </tbody>\n",
       "</table>\n",
       "</div>"
      ],
      "text/plain": [
       "           Date   Price    High     Low   Close     Volume\n",
       "104  2022-01-01  145.05  146.49  124.50  135.30  767206000\n",
       "105  2022-02-01  137.59  151.55  124.95  135.06  928126000\n",
       "106  2022-03-01  134.88  143.79  125.28  139.07  729162000\n",
       "107  2022-04-01  139.50  143.71  112.74  114.11  761152000\n",
       "108  2022-05-01  113.40  122.85  101.88  113.76  850450000\n",
       "109  2022-06-01  114.86  119.35  105.05  108.96  770754000\n",
       "110  2022-07-01  107.93  119.68  104.07  116.32  789529700\n",
       "111  2022-08-01  115.30  122.43  107.80  108.22  515852700\n",
       "112  2022-09-01  108.28  111.62   95.56   95.65  613278900\n",
       "113  2022-10-01   96.76  104.82   91.80   94.51  681488300\n",
       "114  2022-11-01   95.45  101.04   83.34  100.99  716522700\n",
       "115  2022-12-01  101.02  102.25   85.94   88.23  603127800\n",
       "116  2023-01-01   89.59  100.32   84.86   98.84  672897800\n",
       "117  2023-02-01   98.71  108.18   88.58   90.06  952580200\n",
       "118  2023-03-01   89.98  106.59   89.42  103.73  859911400\n",
       "119  2023-04-01  102.39  109.17  101.93  108.87  255598400"
      ]
     },
     "execution_count": 13,
     "metadata": {},
     "output_type": "execute_result"
    }
   ],
   "source": [
    "# CSV 파일 경로\n",
    "csv_path = \"data/google-stock-dataset-Monthly.csv\"\n",
    "\n",
    "# CSV 파일 읽어오기 (첫 번째, 마지막 열 제외)\n",
    "new_df = pd.read_csv(csv_path, usecols=range(1, 7))\n",
    "\n",
    "# 2022년 이후 데이터 필터링\n",
    "df_after_2022 = new_df[new_df[\"Date\"] >= \"2022-01-01\"]\n",
    "\n",
    "# 출력하기\n",
    "df_after_2022"
   ]
  },
  {
   "cell_type": "code",
   "execution_count": 14,
   "id": "5ef1c9e3",
   "metadata": {},
   "outputs": [
    {
     "data": {
      "image/png": "[encoded data removed]",
      "text/plain": [
       "<Figure size 432x288 with 1 Axes>"
      ]
     },
     "metadata": {
      "needs_background": "light"
     },
     "output_type": "display_data"
    }
   ],
   "source": [
    "# 그래프 그리기\n",
    "plt.plot(df_after_2022['Date'], df_after_2022['Low'], label='Low')\n",
    "plt.plot(df_after_2022['Date'], df_after_2022['High'], label='High')\n",
    "\n",
    "# 그래프 제목 설정\n",
    "plt.title('High, Low Prices After 2022')\n",
    "\n",
    "# x축 레이블 설정\n",
    "plt.xlabel('Date')\n",
    "\n",
    "# y축 레이블 설정\n",
    "plt.ylabel('Price')\n",
    "\n",
    "# 범례 표시\n",
    "plt.legend()\n",
    "\n",
    "# 그래프 표시\n",
    "plt.show()"
   ]
  },
  {
   "cell_type": "markdown",
   "id": "82665a64",
   "metadata": {},
   "source": [
    "- x 축 가독성 키우기 (회전)"
   ]
  },
  {
   "cell_type": "code",
   "execution_count": 15,
   "id": "f1276007",
   "metadata": {},
   "outputs": [
    {
     "data": {
      "image/png": "[encoded data removed]",
      "text/plain": [
       "<Figure size 432x288 with 1 Axes>"
      ]
     },
     "metadata": {
      "needs_background": "light"
     },
     "output_type": "display_data"
    }
   ],
   "source": [
    "# 그래프 그리기\n",
    "plt.plot(df_after_2022['Date'], df_after_2022['Low'], label='Low')\n",
    "plt.plot(df_after_2022['Date'], df_after_2022['High'], label='High')\n",
    "\n",
    "# 그래프 제목 설정\n",
    "plt.title('High, Low Prices After 2022')\n",
    "\n",
    "# x축 레이블 설정\n",
    "plt.xlabel('Date')\n",
    "\n",
    "# y축 레이블 설정\n",
    "plt.ylabel('Price')\n",
    "\n",
    "# x 축 설정(회전시키기)\n",
    "plt.xticks(rotation=45)\n",
    "\n",
    "# 범례 표시\n",
    "plt.legend()\n",
    "\n",
    "# 그래프 표시\n",
    "plt.show()"
   ]
  },
  {
   "cell_type": "markdown",
   "id": "27b05d87",
   "metadata": {},
   "source": [
    "## 5. 원화로 바꾸어 출력해보기\n",
    "  - 최저, 최고가를 원화로 변경하여 출력해보자"
   ]
  },
  {
   "cell_type": "code",
   "execution_count": 16,
   "id": "ac1d567a",
   "metadata": {},
   "outputs": [
    {
     "data": {
      "text/html": [
       "<div>\n",
       "<style scoped>\n",
       "    .dataframe tbody tr th:only-of-type {\n",
       "        vertical-align: middle;\n",
       "    }\n",
       "\n",
       "    .dataframe tbody tr th {\n",
       "        vertical-align: top;\n",
       "    }\n",
       "\n",
       "    .dataframe thead th {\n",
       "        text-align: right;\n",
       "    }\n",
       "</style>\n",
       "<table border=\"1\" class=\"dataframe\">\n",
       "  <thead>\n",
       "    <tr style=\"text-align: right;\">\n",
       "      <th></th>\n",
       "      <th>Date</th>\n",
       "      <th>Price</th>\n",
       "      <th>High</th>\n",
       "      <th>Low</th>\n",
       "      <th>Close</th>\n",
       "      <th>Volume</th>\n",
       "      <th>High(won)</th>\n",
       "      <th>Low(won)</th>\n",
       "      <th>Close(won)</th>\n",
       "    </tr>\n",
       "  </thead>\n",
       "  <tbody>\n",
       "    <tr>\n",
       "      <th>104</th>\n",
       "      <td>2022-01-01</td>\n",
       "      <td>145.05</td>\n",
       "      <td>146.49</td>\n",
       "      <td>124.50</td>\n",
       "      <td>135.30</td>\n",
       "      <td>767206000</td>\n",
       "      <td>190437.0</td>\n",
       "      <td>161850.0</td>\n",
       "      <td>175890.0</td>\n",
       "    </tr>\n",
       "    <tr>\n",
       "      <th>105</th>\n",
       "      <td>2022-02-01</td>\n",
       "      <td>137.59</td>\n",
       "      <td>151.55</td>\n",
       "      <td>124.95</td>\n",
       "      <td>135.06</td>\n",
       "      <td>928126000</td>\n",
       "      <td>197015.0</td>\n",
       "      <td>162435.0</td>\n",
       "      <td>175578.0</td>\n",
       "    </tr>\n",
       "    <tr>\n",
       "      <th>106</th>\n",
       "      <td>2022-03-01</td>\n",
       "      <td>134.88</td>\n",
       "      <td>143.79</td>\n",
       "      <td>125.28</td>\n",
       "      <td>139.07</td>\n",
       "      <td>729162000</td>\n",
       "      <td>186927.0</td>\n",
       "      <td>162864.0</td>\n",
       "      <td>180791.0</td>\n",
       "    </tr>\n",
       "    <tr>\n",
       "      <th>107</th>\n",
       "      <td>2022-04-01</td>\n",
       "      <td>139.50</td>\n",
       "      <td>143.71</td>\n",
       "      <td>112.74</td>\n",
       "      <td>114.11</td>\n",
       "      <td>761152000</td>\n",
       "      <td>186823.0</td>\n",
       "      <td>146562.0</td>\n",
       "      <td>148343.0</td>\n",
       "    </tr>\n",
       "    <tr>\n",
       "      <th>108</th>\n",
       "      <td>2022-05-01</td>\n",
       "      <td>113.40</td>\n",
       "      <td>122.85</td>\n",
       "      <td>101.88</td>\n",
       "      <td>113.76</td>\n",
       "      <td>850450000</td>\n",
       "      <td>159705.0</td>\n",
       "      <td>132444.0</td>\n",
       "      <td>147888.0</td>\n",
       "    </tr>\n",
       "    <tr>\n",
       "      <th>109</th>\n",
       "      <td>2022-06-01</td>\n",
       "      <td>114.86</td>\n",
       "      <td>119.35</td>\n",
       "      <td>105.05</td>\n",
       "      <td>108.96</td>\n",
       "      <td>770754000</td>\n",
       "      <td>155155.0</td>\n",
       "      <td>136565.0</td>\n",
       "      <td>141648.0</td>\n",
       "    </tr>\n",
       "    <tr>\n",
       "      <th>110</th>\n",
       "      <td>2022-07-01</td>\n",
       "      <td>107.93</td>\n",
       "      <td>119.68</td>\n",
       "      <td>104.07</td>\n",
       "      <td>116.32</td>\n",
       "      <td>789529700</td>\n",
       "      <td>155584.0</td>\n",
       "      <td>135291.0</td>\n",
       "      <td>151216.0</td>\n",
       "    </tr>\n",
       "    <tr>\n",
       "      <th>111</th>\n",
       "      <td>2022-08-01</td>\n",
       "      <td>115.30</td>\n",
       "      <td>122.43</td>\n",
       "      <td>107.80</td>\n",
       "      <td>108.22</td>\n",
       "      <td>515852700</td>\n",
       "      <td>159159.0</td>\n",
       "      <td>140140.0</td>\n",
       "      <td>140686.0</td>\n",
       "    </tr>\n",
       "    <tr>\n",
       "      <th>112</th>\n",
       "      <td>2022-09-01</td>\n",
       "      <td>108.28</td>\n",
       "      <td>111.62</td>\n",
       "      <td>95.56</td>\n",
       "      <td>95.65</td>\n",
       "      <td>613278900</td>\n",
       "      <td>145106.0</td>\n",
       "      <td>124228.0</td>\n",
       "      <td>124345.0</td>\n",
       "    </tr>\n",
       "    <tr>\n",
       "      <th>113</th>\n",
       "      <td>2022-10-01</td>\n",
       "      <td>96.76</td>\n",
       "      <td>104.82</td>\n",
       "      <td>91.80</td>\n",
       "      <td>94.51</td>\n",
       "      <td>681488300</td>\n",
       "      <td>136266.0</td>\n",
       "      <td>119340.0</td>\n",
       "      <td>122863.0</td>\n",
       "    </tr>\n",
       "    <tr>\n",
       "      <th>114</th>\n",
       "      <td>2022-11-01</td>\n",
       "      <td>95.45</td>\n",
       "      <td>101.04</td>\n",
       "      <td>83.34</td>\n",
       "      <td>100.99</td>\n",
       "      <td>716522700</td>\n",
       "      <td>131352.0</td>\n",
       "      <td>108342.0</td>\n",
       "      <td>131287.0</td>\n",
       "    </tr>\n",
       "    <tr>\n",
       "      <th>115</th>\n",
       "      <td>2022-12-01</td>\n",
       "      <td>101.02</td>\n",
       "      <td>102.25</td>\n",
       "      <td>85.94</td>\n",
       "      <td>88.23</td>\n",
       "      <td>603127800</td>\n",
       "      <td>132925.0</td>\n",
       "      <td>111722.0</td>\n",
       "      <td>114699.0</td>\n",
       "    </tr>\n",
       "    <tr>\n",
       "      <th>116</th>\n",
       "      <td>2023-01-01</td>\n",
       "      <td>89.59</td>\n",
       "      <td>100.32</td>\n",
       "      <td>84.86</td>\n",
       "      <td>98.84</td>\n",
       "      <td>672897800</td>\n",
       "      <td>130416.0</td>\n",
       "      <td>110318.0</td>\n",
       "      <td>128492.0</td>\n",
       "    </tr>\n",
       "    <tr>\n",
       "      <th>117</th>\n",
       "      <td>2023-02-01</td>\n",
       "      <td>98.71</td>\n",
       "      <td>108.18</td>\n",
       "      <td>88.58</td>\n",
       "      <td>90.06</td>\n",
       "      <td>952580200</td>\n",
       "      <td>140634.0</td>\n",
       "      <td>115154.0</td>\n",
       "      <td>117078.0</td>\n",
       "    </tr>\n",
       "    <tr>\n",
       "      <th>118</th>\n",
       "      <td>2023-03-01</td>\n",
       "      <td>89.98</td>\n",
       "      <td>106.59</td>\n",
       "      <td>89.42</td>\n",
       "      <td>103.73</td>\n",
       "      <td>859911400</td>\n",
       "      <td>138567.0</td>\n",
       "      <td>116246.0</td>\n",
       "      <td>134849.0</td>\n",
       "    </tr>\n",
       "    <tr>\n",
       "      <th>119</th>\n",
       "      <td>2023-04-01</td>\n",
       "      <td>102.39</td>\n",
       "      <td>109.17</td>\n",
       "      <td>101.93</td>\n",
       "      <td>108.87</td>\n",
       "      <td>255598400</td>\n",
       "      <td>141921.0</td>\n",
       "      <td>132509.0</td>\n",
       "      <td>141531.0</td>\n",
       "    </tr>\n",
       "  </tbody>\n",
       "</table>\n",
       "</div>"
      ],
      "text/plain": [
       "           Date   Price    High     Low   Close     Volume  High(won)  \\\n",
       "104  2022-01-01  145.05  146.49  124.50  135.30  767206000   190437.0   \n",
       "105  2022-02-01  137.59  151.55  124.95  135.06  928126000   197015.0   \n",
       "106  2022-03-01  134.88  143.79  125.28  139.07  729162000   186927.0   \n",
       "107  2022-04-01  139.50  143.71  112.74  114.11  761152000   186823.0   \n",
       "108  2022-05-01  113.40  122.85  101.88  113.76  850450000   159705.0   \n",
       "109  2022-06-01  114.86  119.35  105.05  108.96  770754000   155155.0   \n",
       "110  2022-07-01  107.93  119.68  104.07  116.32  789529700   155584.0   \n",
       "111  2022-08-01  115.30  122.43  107.80  108.22  515852700   159159.0   \n",
       "112  2022-09-01  108.28  111.62   95.56   95.65  613278900   145106.0   \n",
       "113  2022-10-01   96.76  104.82   91.80   94.51  681488300   136266.0   \n",
       "114  2022-11-01   95.45  101.04   83.34  100.99  716522700   131352.0   \n",
       "115  2022-12-01  101.02  102.25   85.94   88.23  603127800   132925.0   \n",
       "116  2023-01-01   89.59  100.32   84.86   98.84  672897800   130416.0   \n",
       "117  2023-02-01   98.71  108.18   88.58   90.06  952580200   140634.0   \n",
       "118  2023-03-01   89.98  106.59   89.42  103.73  859911400   138567.0   \n",
       "119  2023-04-01  102.39  109.17  101.93  108.87  255598400   141921.0   \n",
       "\n",
       "     Low(won)  Close(won)  \n",
       "104  161850.0    175890.0  \n",
       "105  162435.0    175578.0  \n",
       "106  162864.0    180791.0  \n",
       "107  146562.0    148343.0  \n",
       "108  132444.0    147888.0  \n",
       "109  136565.0    141648.0  \n",
       "110  135291.0    151216.0  \n",
       "111  140140.0    140686.0  \n",
       "112  124228.0    124345.0  \n",
       "113  119340.0    122863.0  \n",
       "114  108342.0    131287.0  \n",
       "115  111722.0    114699.0  \n",
       "116  110318.0    128492.0  \n",
       "117  115154.0    117078.0  \n",
       "118  116246.0    134849.0  \n",
       "119  132509.0    141531.0  "
      ]
     },
     "execution_count": 16,
     "metadata": {},
     "output_type": "execute_result"
    }
   ],
   "source": [
    "# CSV 파일 경로\n",
    "csv_path = \"data/google-stock-dataset-Monthly.csv\"\n",
    "\n",
    "# CSV 파일 읽어오기 (첫 번째, 마지막 열 제외)\n",
    "df = pd.read_csv(csv_path, usecols=range(1, 7))\n",
    "\n",
    "# 원화 환율 (예시로 1달러당 1300원으로 가정)\n",
    "exchange_rate = 1300\n",
    "\n",
    "# 각 컬럼을 원화로 계산하여 추가\n",
    "df[\"High(won)\"] = df[\"High\"] * exchange_rate\n",
    "df[\"Low(won)\"] = df[\"Low\"] * exchange_rate\n",
    "df[\"Close(won)\"] = df[\"Close\"] * exchange_rate\n",
    "\n",
    "# 2022년 이후 데이터 필터링\n",
    "df = df[new_df[\"Date\"] >= \"2022-01-01\"]\n",
    "\n",
    "# 수정된 데이터프레임 출력\n",
    "df"
   ]
  },
  {
   "cell_type": "code",
   "execution_count": 17,
   "id": "cf280c78",
   "metadata": {
    "scrolled": true
   },
   "outputs": [
    {
     "data": {
      "image/png": "[encoded data removed]",
      "text/plain": [
       "<Figure size 432x288 with 1 Axes>"
      ]
     },
     "metadata": {
      "needs_background": "light"
     },
     "output_type": "display_data"
    }
   ],
   "source": [
    "# 그래프 그리기\n",
    "plt.plot(df['Date'], df['Low(won)'], label='Low(won)')\n",
    "plt.plot(df['Date'], df['High(won)'], label='High(won)')\n",
    "plt.plot(df['Date'], df['Close(won)'], label='Close(won)')\n",
    "\n",
    "# 그래프 제목 설정\n",
    "plt.title('High, Low, CLose Prices after 2022, exchange')\n",
    "\n",
    "# x축 레이블 설정\n",
    "plt.xlabel('Date')\n",
    "\n",
    "# y축 레이블 설정\n",
    "plt.ylabel('Price(won)')\n",
    "\n",
    "# x 축 설정(회전시키기)\n",
    "plt.xticks(rotation=45)\n",
    "\n",
    "# 범례 표시\n",
    "plt.legend()\n",
    "\n",
    "# 그래프 표시\n",
    "plt.show()"
   ]
  },
  {
   "cell_type": "markdown",
   "id": "4f44cceb",
   "metadata": {},
   "source": [
    "## 6. 간단한 분석 예시\n",
    "- 지난 1년의 최고, 최저, 종가와 현재 종가는 무슨 관계가 있을까 ?\n",
    "\n",
    "### 상관 관계\n",
    "  - 두 데이터 간의 관련성이나 연관성을 나타내는 통계적인 개념\n",
    "  - 데이터들 간의 선형적인 관계를 측정하고, 이 관계의 강도와 방향성을 파악하는 데 사용\n",
    "  - Pandas 의 `corr()` 메서드 사용\n",
    "    - \"1\"에 가까울수록 양의 상관 관계가 강함을 나타냅니다. 즉, 한 변수가 증가하면 다른 변수도 증가하는 경향이 있습니다.\n",
    "    - \"-1\"에 가까울수록 음의 상관 관계가 강함을 나타냅니다. 즉, 한 변수가 증가하면 다른 변수는 감소하는 경향이 있습니다.\n",
    "    - \"0\"에 가까울수록 두 변수 사이에는 선형적인 상관 관계가 거의 없음을 나타냅니다. 즉, 한 변수의 변화는 다른 변수에 영향을 미치지 않는 것으로 해석됩니다."
   ]
  },
  {
   "cell_type": "code",
   "execution_count": 18,
   "id": "4f4e8061",
   "metadata": {},
   "outputs": [
    {
     "name": "stdout",
     "output_type": "stream",
     "text": [
      "지난 1년의 High 가격과 마지막 개월의 Close 가격과의 상관 관계: 0.7467644674963533\n",
      "지난 1년의 평균 최고가: 113.57\n",
      "----------------------------------------------\n",
      "지난 1년의 Low 가격과 마지막 개월의 Close 가격과의 상관 관계: 0.7784705369457524\n",
      "지난 1년의 평균 최저가: 95.92000000000002\n",
      "----------------------------------------------\n",
      "지난 1년의 거래량과 마지막 개월의 Close 가격과의 상관 관계: 0.16764687924467012\n",
      "지난 1년의 평균 거래량: 732295458.3333334\n",
      "----------------------------------------------\n"
     ]
    }
   ],
   "source": [
    "# CSV 파일 경로\n",
    "csv_path = \"data/google-stock-dataset-Monthly.csv\"\n",
    "\n",
    "# CSV 파일 읽어오기 (첫 번째, 마지막 열 제외)\n",
    "df = pd.read_csv(csv_path, usecols=range(1, 7))\n",
    "\n",
    "# 가장 최근을 제외한 마지막 1년 추출\n",
    "df = df.tail(13)\n",
    "\n",
    "# 마지막 개월의 Close 가격\n",
    "last_month_close = df['Close'].iloc[-1]\n",
    "\n",
    "# 마지막 개월을 제외한 1년의 데이터와 마지막 개월의 종가 간의 상관 관계\n",
    "High_Close_corr = df['High'].iloc[:-1].corr(df['Close'])\n",
    "Low_Close_corr = df['Low'].iloc[:-1].corr(df['Close'])\n",
    "Volume_Colse_corr = df['Volume'].iloc[:-1].corr(df['Close'])\n",
    "\n",
    "print(f\"지난 1년의 High 가격과 마지막 개월의 Close 가격과의 상관 관계: {High_Close_corr}\")\n",
    "print(f\"지난 1년의 평균 최고가: {df['High'].iloc[:-1].mean()}\")\n",
    "\n",
    "print('----------------------------------------------')\n",
    "\n",
    "print(f\"지난 1년의 Low 가격과 마지막 개월의 Close 가격과의 상관 관계: {Low_Close_corr}\")\n",
    "print(f\"지난 1년의 평균 최저가: {df['Low'].iloc[:-1].mean()}\")\n",
    "\n",
    "print('----------------------------------------------')\n",
    "\n",
    "print(f\"지난 1년의 거래량과 마지막 개월의 Close 가격과의 상관 관계: {Volume_Colse_corr}\")\n",
    "print(f\"지난 1년의 평균 거래량: {df['Volume'].iloc[:-1].mean()}\")\n",
    "\n",
    "print('----------------------------------------------')"
   ]
  },
  {
   "cell_type": "markdown",
   "id": "e7914f78",
   "metadata": {},
   "source": [
    "- 그래프를 출력하며 분석을 해보자"
   ]
  },
  {
   "cell_type": "code",
   "execution_count": 19,
   "id": "37cbaec0",
   "metadata": {},
   "outputs": [
    {
     "data": {
      "image/png": "[encoded data removed]",
      "text/plain": [
       "<Figure size 432x288 with 1 Axes>"
      ]
     },
     "metadata": {
      "needs_background": "light"
     },
     "output_type": "display_data"
    }
   ],
   "source": [
    "# 그래프 그리기\n",
    "plt.plot(df['Date'], df['Close'], label='Close')\n",
    "plt.plot(df['Date'], df['Low'], label='Low')\n",
    "plt.plot(df['Date'], df['High'], label='High')\n",
    "\n",
    "# 그래프 제목 설정\n",
    "plt.title('High, Low Prices over Time')\n",
    "\n",
    "# x축 레이블 설정\n",
    "plt.xlabel('Date')\n",
    "\n",
    "# y축 레이블 설정\n",
    "plt.ylabel('Price')\n",
    "\n",
    "# x 축 설정(회전시키기)\n",
    "plt.xticks(rotation=45)\n",
    "\n",
    "# 범례 표시\n",
    "plt.legend()\n",
    "\n",
    "# 그래프 표시\n",
    "plt.show()"
   ]
  },
  {
   "cell_type": "markdown",
   "id": "8e13761f",
   "metadata": {},
   "source": [
    "### 분석 결과\n",
    "- 지난 1년의 High 가격과 마지막 개월의 Close 가격과의 상관 관계: 0.74\n",
    "- 지난 1년의 Low 가격과 마지막 개월의 Close 가격과의 상관 관계: 0.77\n",
    "- 일반적으로 0.7 이상의 점수: 강한 상관 관계\n",
    "- 즉, High, Low 값에 Close 가격이 비례하는 성향이 있다!\n",
    "  - 3월과 4월의 최고가, 최저가가 상향하는 것으로 보인다!\n",
    "  - 5월에도 오를 것으로 보이니 매수하자! (잘못된 분석)\n",
    "\n",
    "### 상관 관계 분석 시 주의사항\n",
    "- 상관 관계가 높다고 해서 원인과 결과 사이에 직접적인 인과 관계가 있다고 가정해서는 안됩니다.\n",
    "- 예를 들어, \"날씨가 더워질수록 아이스크림 판매량이 증가한다\" 처럼 연관이 있을 수는 있으나, 직접적인 원인이 될 수는 없습니다!\n",
    "  - 상관 관계를 통해 변수들 간의 연관성을 파악할 수 있지만, 인과 관계를 정확히 파악하려면 추가적인 연구와 분석이 필요합니다.\n",
    "  - 다른 요인들이 포함된 복잡한 시스템에서는 인과 관계를 추론하기 위해 실험 설계나 다른 분석 방법을 사용해야 합니다.\n",
    "- `위의 예시처럼 잘못된 분석 결과를 내지 않도록 주의 하며 데이터 분석을 진행`해야 합니다."
   ]
  },
  {
   "cell_type": "code",
   "execution_count": null,
   "id": "2d3ab38c",
   "metadata": {},
   "outputs": [],
   "source": []
  }
 ],
 "metadata": {
  "kernelspec": {
   "display_name": "Python 3 (ipykernel)",
   "language": "python",
   "name": "python3"
  },
  "language_info": {
   "codemirror_mode": {
    "name": "ipython",
    "version": 3
   },
   "file_extension": ".py",
   "mimetype": "text/x-python",
   "name": "python",
   "nbconvert_exporter": "python",
   "pygments_lexer": "ipython3",
   "version": "3.10.2"
  }
 },
 "nbformat": 4,
 "nbformat_minor": 5
}
